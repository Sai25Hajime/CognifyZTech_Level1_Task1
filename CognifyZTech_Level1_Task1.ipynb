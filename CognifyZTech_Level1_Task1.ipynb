{
  "nbformat": 4,
  "nbformat_minor": 0,
  "metadata": {
    "colab": {
      "provenance": [],
      "authorship_tag": "ABX9TyO4YJi5E2A0p1slM6pU5WyG",
      "include_colab_link": true
    },
    "kernelspec": {
      "name": "python3",
      "display_name": "Python 3"
    },
    "language_info": {
      "name": "python"
    }
  },
  "cells": [
    {
      "cell_type": "markdown",
      "metadata": {
        "id": "view-in-github",
        "colab_type": "text"
      },
      "source": [
        "<a href=\"https://colab.research.google.com/github/Sai25Hajime/CognifyZTech_Level1_Task1/blob/main/CognifyZTech_Level1_Task1.ipynb\" target=\"_parent\"><img src=\"https://colab.research.google.com/assets/colab-badge.svg\" alt=\"Open In Colab\"/></a>"
      ]
    },
    {
      "cell_type": "markdown",
      "source": [
        "# Mounting the Google Drive"
      ],
      "metadata": {
        "id": "md0MP3Vpk8Tg"
      }
    },
    {
      "cell_type": "markdown",
      "source": [
        "First we mount the google drive since that is where the dataset will be stored."
      ],
      "metadata": {
        "id": "fkQDqzJ2lAi7"
      }
    },
    {
      "cell_type": "code",
      "source": [
        "#Both are used to import the drive.\n",
        "from google.colab import drive\n",
        "drive.mount('/content/drive')"
      ],
      "metadata": {
        "colab": {
          "base_uri": "https://localhost:8080/"
        },
        "id": "hn8jfGXnhXYa",
        "outputId": "a9edb1d1-59d0-4e6b-f45e-d0b8627cab7e"
      },
      "execution_count": 12,
      "outputs": [
        {
          "output_type": "stream",
          "name": "stdout",
          "text": [
            "Drive already mounted at /content/drive; to attempt to forcibly remount, call drive.mount(\"/content/drive\", force_remount=True).\n"
          ]
        }
      ]
    },
    {
      "cell_type": "markdown",
      "source": [
        "# Importing Libraries"
      ],
      "metadata": {
        "id": "f3n7CfORlIi1"
      }
    },
    {
      "cell_type": "markdown",
      "source": [
        "Importing libraries is standard practice when coding or working with datasets. In this case we are importing the Pandas library."
      ],
      "metadata": {
        "id": "RhGx9MoOmrZk"
      }
    },
    {
      "cell_type": "code",
      "execution_count": 13,
      "metadata": {
        "colab": {
          "base_uri": "https://localhost:8080/"
        },
        "id": "mCNEKVUrhMju",
        "outputId": "26f76f5a-1ce2-496e-9e65-6a72cf2a3d41"
      },
      "outputs": [
        {
          "output_type": "stream",
          "name": "stdout",
          "text": [
            "   Restaurant ID         Restaurant Name  Country Code              City  \\\n",
            "0        6317637        Le Petit Souffle           162       Makati City   \n",
            "1        6304287        Izakaya Kikufuji           162       Makati City   \n",
            "2        6300002  Heat - Edsa Shangri-La           162  Mandaluyong City   \n",
            "3        6318506                    Ooma           162  Mandaluyong City   \n",
            "4        6314302             Sambo Kojin           162  Mandaluyong City   \n",
            "\n",
            "                                             Address  \\\n",
            "0  Third Floor, Century City Mall, Kalayaan Avenu...   \n",
            "1  Little Tokyo, 2277 Chino Roces Avenue, Legaspi...   \n",
            "2  Edsa Shangri-La, 1 Garden Way, Ortigas, Mandal...   \n",
            "3  Third Floor, Mega Fashion Hall, SM Megamall, O...   \n",
            "4  Third Floor, Mega Atrium, SM Megamall, Ortigas...   \n",
            "\n",
            "                                     Locality  \\\n",
            "0   Century City Mall, Poblacion, Makati City   \n",
            "1  Little Tokyo, Legaspi Village, Makati City   \n",
            "2  Edsa Shangri-La, Ortigas, Mandaluyong City   \n",
            "3      SM Megamall, Ortigas, Mandaluyong City   \n",
            "4      SM Megamall, Ortigas, Mandaluyong City   \n",
            "\n",
            "                                    Locality Verbose   Longitude   Latitude  \\\n",
            "0  Century City Mall, Poblacion, Makati City, Mak...  121.027535  14.565443   \n",
            "1  Little Tokyo, Legaspi Village, Makati City, Ma...  121.014101  14.553708   \n",
            "2  Edsa Shangri-La, Ortigas, Mandaluyong City, Ma...  121.056831  14.581404   \n",
            "3  SM Megamall, Ortigas, Mandaluyong City, Mandal...  121.056475  14.585318   \n",
            "4  SM Megamall, Ortigas, Mandaluyong City, Mandal...  121.057508  14.584450   \n",
            "\n",
            "                           Cuisines  ...          Currency Has Table booking  \\\n",
            "0        French, Japanese, Desserts  ...  Botswana Pula(P)               Yes   \n",
            "1                          Japanese  ...  Botswana Pula(P)               Yes   \n",
            "2  Seafood, Asian, Filipino, Indian  ...  Botswana Pula(P)               Yes   \n",
            "3                   Japanese, Sushi  ...  Botswana Pula(P)                No   \n",
            "4                  Japanese, Korean  ...  Botswana Pula(P)               Yes   \n",
            "\n",
            "  Has Online delivery Is delivering now Switch to order menu Price range  \\\n",
            "0                  No                No                   No           3   \n",
            "1                  No                No                   No           3   \n",
            "2                  No                No                   No           4   \n",
            "3                  No                No                   No           4   \n",
            "4                  No                No                   No           4   \n",
            "\n",
            "   Aggregate rating  Rating color Rating text Votes  \n",
            "0               4.8    Dark Green   Excellent   314  \n",
            "1               4.5    Dark Green   Excellent   591  \n",
            "2               4.4         Green   Very Good   270  \n",
            "3               4.9    Dark Green   Excellent   365  \n",
            "4               4.8    Dark Green   Excellent   229  \n",
            "\n",
            "[5 rows x 21 columns]\n"
          ]
        }
      ],
      "source": [
        "#Importing the Pandas library module\n",
        "import pandas as pd\n",
        "\n",
        "# Loading the dataset from Google Drive\n",
        "df = pd.read_csv(\"/content/drive/MyDrive/Datasets/cognifyz_dataset.csv\")\n",
        "\n",
        "# Show the first few rows\n",
        "print(df.head())"
      ]
    },
    {
      "cell_type": "markdown",
      "source": [
        "# Displaying the Total Number of Rows and Columns"
      ],
      "metadata": {
        "id": "sov2MbummGfG"
      }
    },
    {
      "cell_type": "markdown",
      "source": [
        "We need to display the number of rows and columns since this will help in understanding the data in each category."
      ],
      "metadata": {
        "id": "KdHLq9s4mLHZ"
      }
    },
    {
      "cell_type": "markdown",
      "source": [
        "The shape property returns a tuple containing the shape of the DataFrame so it shows the total number of rows and columns."
      ],
      "metadata": {
        "id": "RklyW6RxnTyr"
      }
    },
    {
      "cell_type": "code",
      "source": [
        "# df.shape displays the amount of rows and columns contained in the dataset.\n",
        "print(\"Number of rows and columns:\", df.shape)"
      ],
      "metadata": {
        "colab": {
          "base_uri": "https://localhost:8080/"
        },
        "id": "lDEtvD7YiXI3",
        "outputId": "42e3cc1c-dd61-4606-e2a5-ee7735931ace"
      },
      "execution_count": 14,
      "outputs": [
        {
          "output_type": "stream",
          "name": "stdout",
          "text": [
            "Number of rows and columns: (9551, 21)\n"
          ]
        }
      ]
    },
    {
      "cell_type": "markdown",
      "source": [
        "# Printing Missing values"
      ],
      "metadata": {
        "id": "_bCrqZYUm4K9"
      }
    },
    {
      "cell_type": "markdown",
      "source": [
        "This is to check if any category contains missing values. A 0 means no missing values whwereas higher numbers mean more missing values."
      ],
      "metadata": {
        "id": "6xC3FXWPm-Ej"
      }
    },
    {
      "cell_type": "code",
      "source": [
        "# df.isnull() prints the category as well as how many missing values in that category.\n",
        "print(\"Missing values in each column:\\n\", df.isnull().sum())"
      ],
      "metadata": {
        "colab": {
          "base_uri": "https://localhost:8080/"
        },
        "id": "W9wXUAoViZ-d",
        "outputId": "1bd05133-2b29-4b44-957a-2830ecb64835"
      },
      "execution_count": 15,
      "outputs": [
        {
          "output_type": "stream",
          "name": "stdout",
          "text": [
            "Missing values in each column:\n",
            " Restaurant ID           0\n",
            "Restaurant Name         0\n",
            "Country Code            0\n",
            "City                    0\n",
            "Address                 0\n",
            "Locality                0\n",
            "Locality Verbose        0\n",
            "Longitude               0\n",
            "Latitude                0\n",
            "Cuisines                9\n",
            "Average Cost for two    0\n",
            "Currency                0\n",
            "Has Table booking       0\n",
            "Has Online delivery     0\n",
            "Is delivering now       0\n",
            "Switch to order menu    0\n",
            "Price range             0\n",
            "Aggregate rating        0\n",
            "Rating color            0\n",
            "Rating text             0\n",
            "Votes                   0\n",
            "dtype: int64\n"
          ]
        }
      ]
    },
    {
      "cell_type": "markdown",
      "source": [
        "# Filling Missing Values"
      ],
      "metadata": {
        "id": "nr85pxmWnet7"
      }
    },
    {
      "cell_type": "markdown",
      "source": [
        "Filling the missing values is important as otherwise the results will be inaccurate and biased.\n",
        "\n",
        "Here we have replaced Missing Values with a text."
      ],
      "metadata": {
        "id": "nVjT5mm3npvB"
      }
    },
    {
      "cell_type": "code",
      "source": [
        "# We fill missing values with \"Unknown\" (Best for text data)\n",
        "df[\"Cuisines\"].fillna(\"Unknown\", inplace=True)"
      ],
      "metadata": {
        "colab": {
          "base_uri": "https://localhost:8080/"
        },
        "id": "kFVccG-EjUyV",
        "outputId": "ab8cf589-66bf-47b8-b90d-7a586b09523f"
      },
      "execution_count": 16,
      "outputs": [
        {
          "output_type": "stream",
          "name": "stderr",
          "text": [
            "<ipython-input-16-6d892ef2d747>:2: FutureWarning: A value is trying to be set on a copy of a DataFrame or Series through chained assignment using an inplace method.\n",
            "The behavior will change in pandas 3.0. This inplace method will never work because the intermediate object on which we are setting values always behaves as a copy.\n",
            "\n",
            "For example, when doing 'df[col].method(value, inplace=True)', try using 'df.method({col: value}, inplace=True)' or df[col] = df[col].method(value) instead, to perform the operation inplace on the original object.\n",
            "\n",
            "\n",
            "  df[\"Cuisines\"].fillna(\"Unknown\", inplace=True)\n"
          ]
        }
      ]
    },
    {
      "cell_type": "markdown",
      "source": [
        "# Plotting the Aggregate Rating"
      ],
      "metadata": {
        "id": "SeJr8-Q5mgCH"
      }
    },
    {
      "cell_type": "markdown",
      "source": [
        "We now plot the graph of the Aggregate Rating."
      ],
      "metadata": {
        "id": "AgPdDCwvmkGM"
      }
    },
    {
      "cell_type": "code",
      "source": [
        "import matplotlib.pyplot as plt\n",
        "import seaborn as sns\n",
        "\n",
        "sns.histplot(df[\"Aggregate rating\"], bins=10, kde=True)\n",
        "plt.title(\"Distribution of Aggregate Ratings\")\n",
        "plt.xlabel(\"Ratings\")\n",
        "plt.ylabel(\"Count\")\n",
        "plt.show()\n"
      ],
      "metadata": {
        "colab": {
          "base_uri": "https://localhost:8080/",
          "height": 472
        },
        "id": "ViFUdPwTkPy3",
        "outputId": "6de97c6f-56b1-44c6-c17a-e9d26ae1ad9c"
      },
      "execution_count": 17,
      "outputs": [
        {
          "output_type": "display_data",
          "data": {
            "text/plain": [
              "<Figure size 640x480 with 1 Axes>"
            ],
            "image/png": "[encoded data removed]"
          },
          "metadata": {}
        }
      ]
    }
  ]
}